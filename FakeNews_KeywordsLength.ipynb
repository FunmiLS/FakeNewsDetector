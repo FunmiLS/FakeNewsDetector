{
  "nbformat": 4,
  "nbformat_minor": 0,
  "metadata": {
    "colab": {
      "provenance": []
    },
    "kernelspec": {
      "name": "python3",
      "display_name": "Python 3"
    },
    "language_info": {
      "name": "python"
    }
  },
  "cells": [
    {
      "cell_type": "markdown",
      "source": [
        "## Fake News Detector - Notebook 3\n",
        "\n",
        "In this notebook I investigate the top 5 keywords associated with fake news based on the article title and text.\n",
        "\n",
        "I also investigate the average title and text length for both real and fake news articles."
      ],
      "metadata": {
        "id": "rZXZEwImtJaX"
      }
    },
    {
      "cell_type": "code",
      "execution_count": 76,
      "metadata": {
        "id": "d_q2C3xmrwsO"
      },
      "outputs": [],
      "source": [
        "import pandas as pd\n",
        "from google.colab import files\n",
        "import matplotlib.pyplot as plt\n",
        "\n",
        "#import natural language processing libraries\n",
        "#nltk = natural language toolkit\n",
        "\n",
        "from nltk.tokenize import word_tokenize\n",
        "from nltk.corpus import stopwords\n",
        "from collections import Counter"
      ]
    },
    {
      "cell_type": "code",
      "source": [
        "uploaded = files.upload()"
      ],
      "metadata": {
        "colab": {
          "base_uri": "https://localhost:8080/",
          "height": 38
        },
        "id": "QubsYuxVsNzH",
        "outputId": "b0bf7134-1093-49bd-b3cc-892fd6ab982a"
      },
      "execution_count": 77,
      "outputs": [
        {
          "output_type": "display_data",
          "data": {
            "text/plain": [
              "<IPython.core.display.HTML object>"
            ],
            "text/html": [
              "\n",
              "     <input type=\"file\" id=\"files-db2cb600-8f6d-4ea9-b650-40c7770660c8\" name=\"files[]\" multiple disabled\n",
              "        style=\"border:none\" />\n",
              "     <output id=\"result-db2cb600-8f6d-4ea9-b650-40c7770660c8\">\n",
              "      Upload widget is only available when the cell has been executed in the\n",
              "      current browser session. Please rerun this cell to enable.\n",
              "      </output>\n",
              "      <script>// Copyright 2017 Google LLC\n",
              "//\n",
              "// Licensed under the Apache License, Version 2.0 (the \"License\");\n",
              "// you may not use this file except in compliance with the License.\n",
              "// You may obtain a copy of the License at\n",
              "//\n",
              "//      http://www.apache.org/licenses/LICENSE-2.0\n",
              "//\n",
              "// Unless required by applicable law or agreed to in writing, software\n",
              "// distributed under the License is distributed on an \"AS IS\" BASIS,\n",
              "// WITHOUT WARRANTIES OR CONDITIONS OF ANY KIND, either express or implied.\n",
              "// See the License for the specific language governing permissions and\n",
              "// limitations under the License.\n",
              "\n",
              "/**\n",
              " * @fileoverview Helpers for google.colab Python module.\n",
              " */\n",
              "(function(scope) {\n",
              "function span(text, styleAttributes = {}) {\n",
              "  const element = document.createElement('span');\n",
              "  element.textContent = text;\n",
              "  for (const key of Object.keys(styleAttributes)) {\n",
              "    element.style[key] = styleAttributes[key];\n",
              "  }\n",
              "  return element;\n",
              "}\n",
              "\n",
              "// Max number of bytes which will be uploaded at a time.\n",
              "const MAX_PAYLOAD_SIZE = 100 * 1024;\n",
              "\n",
              "function _uploadFiles(inputId, outputId) {\n",
              "  const steps = uploadFilesStep(inputId, outputId);\n",
              "  const outputElement = document.getElementById(outputId);\n",
              "  // Cache steps on the outputElement to make it available for the next call\n",
              "  // to uploadFilesContinue from Python.\n",
              "  outputElement.steps = steps;\n",
              "\n",
              "  return _uploadFilesContinue(outputId);\n",
              "}\n",
              "\n",
              "// This is roughly an async generator (not supported in the browser yet),\n",
              "// where there are multiple asynchronous steps and the Python side is going\n",
              "// to poll for completion of each step.\n",
              "// This uses a Promise to block the python side on completion of each step,\n",
              "// then passes the result of the previous step as the input to the next step.\n",
              "function _uploadFilesContinue(outputId) {\n",
              "  const outputElement = document.getElementById(outputId);\n",
              "  const steps = outputElement.steps;\n",
              "\n",
              "  const next = steps.next(outputElement.lastPromiseValue);\n",
              "  return Promise.resolve(next.value.promise).then((value) => {\n",
              "    // Cache the last promise value to make it available to the next\n",
              "    // step of the generator.\n",
              "    outputElement.lastPromiseValue = value;\n",
              "    return next.value.response;\n",
              "  });\n",
              "}\n",
              "\n",
              "/**\n",
              " * Generator function which is called between each async step of the upload\n",
              " * process.\n",
              " * @param {string} inputId Element ID of the input file picker element.\n",
              " * @param {string} outputId Element ID of the output display.\n",
              " * @return {!Iterable<!Object>} Iterable of next steps.\n",
              " */\n",
              "function* uploadFilesStep(inputId, outputId) {\n",
              "  const inputElement = document.getElementById(inputId);\n",
              "  inputElement.disabled = false;\n",
              "\n",
              "  const outputElement = document.getElementById(outputId);\n",
              "  outputElement.innerHTML = '';\n",
              "\n",
              "  const pickedPromise = new Promise((resolve) => {\n",
              "    inputElement.addEventListener('change', (e) => {\n",
              "      resolve(e.target.files);\n",
              "    });\n",
              "  });\n",
              "\n",
              "  const cancel = document.createElement('button');\n",
              "  inputElement.parentElement.appendChild(cancel);\n",
              "  cancel.textContent = 'Cancel upload';\n",
              "  const cancelPromise = new Promise((resolve) => {\n",
              "    cancel.onclick = () => {\n",
              "      resolve(null);\n",
              "    };\n",
              "  });\n",
              "\n",
              "  // Wait for the user to pick the files.\n",
              "  const files = yield {\n",
              "    promise: Promise.race([pickedPromise, cancelPromise]),\n",
              "    response: {\n",
              "      action: 'starting',\n",
              "    }\n",
              "  };\n",
              "\n",
              "  cancel.remove();\n",
              "\n",
              "  // Disable the input element since further picks are not allowed.\n",
              "  inputElement.disabled = true;\n",
              "\n",
              "  if (!files) {\n",
              "    return {\n",
              "      response: {\n",
              "        action: 'complete',\n",
              "      }\n",
              "    };\n",
              "  }\n",
              "\n",
              "  for (const file of files) {\n",
              "    const li = document.createElement('li');\n",
              "    li.append(span(file.name, {fontWeight: 'bold'}));\n",
              "    li.append(span(\n",
              "        `(${file.type || 'n/a'}) - ${file.size} bytes, ` +\n",
              "        `last modified: ${\n",
              "            file.lastModifiedDate ? file.lastModifiedDate.toLocaleDateString() :\n",
              "                                    'n/a'} - `));\n",
              "    const percent = span('0% done');\n",
              "    li.appendChild(percent);\n",
              "\n",
              "    outputElement.appendChild(li);\n",
              "\n",
              "    const fileDataPromise = new Promise((resolve) => {\n",
              "      const reader = new FileReader();\n",
              "      reader.onload = (e) => {\n",
              "        resolve(e.target.result);\n",
              "      };\n",
              "      reader.readAsArrayBuffer(file);\n",
              "    });\n",
              "    // Wait for the data to be ready.\n",
              "    let fileData = yield {\n",
              "      promise: fileDataPromise,\n",
              "      response: {\n",
              "        action: 'continue',\n",
              "      }\n",
              "    };\n",
              "\n",
              "    // Use a chunked sending to avoid message size limits. See b/62115660.\n",
              "    let position = 0;\n",
              "    do {\n",
              "      const length = Math.min(fileData.byteLength - position, MAX_PAYLOAD_SIZE);\n",
              "      const chunk = new Uint8Array(fileData, position, length);\n",
              "      position += length;\n",
              "\n",
              "      const base64 = btoa(String.fromCharCode.apply(null, chunk));\n",
              "      yield {\n",
              "        response: {\n",
              "          action: 'append',\n",
              "          file: file.name,\n",
              "          data: base64,\n",
              "        },\n",
              "      };\n",
              "\n",
              "      let percentDone = fileData.byteLength === 0 ?\n",
              "          100 :\n",
              "          Math.round((position / fileData.byteLength) * 100);\n",
              "      percent.textContent = `${percentDone}% done`;\n",
              "\n",
              "    } while (position < fileData.byteLength);\n",
              "  }\n",
              "\n",
              "  // All done.\n",
              "  yield {\n",
              "    response: {\n",
              "      action: 'complete',\n",
              "    }\n",
              "  };\n",
              "}\n",
              "\n",
              "scope.google = scope.google || {};\n",
              "scope.google.colab = scope.google.colab || {};\n",
              "scope.google.colab._files = {\n",
              "  _uploadFiles,\n",
              "  _uploadFilesContinue,\n",
              "};\n",
              "})(self);\n",
              "</script> "
            ]
          },
          "metadata": {}
        }
      ]
    },
    {
      "cell_type": "code",
      "source": [
        "data = pd.read_csv(\"cleaned_dataset.csv\")"
      ],
      "metadata": {
        "id": "nB2mcvI0sTHd"
      },
      "execution_count": 78,
      "outputs": []
    },
    {
      "cell_type": "code",
      "source": [
        "data.head()"
      ],
      "metadata": {
        "colab": {
          "base_uri": "https://localhost:8080/",
          "height": 660
        },
        "id": "2-xuNZDasbHb",
        "outputId": "53e06062-4f9b-4e2b-d4a2-9b1a349bd471"
      },
      "execution_count": 79,
      "outputs": [
        {
          "output_type": "execute_result",
          "data": {
            "text/plain": [
              "                 author                      published  \\\n",
              "0     Barracuda Brigade  2016-10-26T21:41:00.000+03:00   \n",
              "1  reasoning with facts  2016-10-29T08:47:11.259+03:00   \n",
              "2     Barracuda Brigade  2016-10-31T01:41:49.479+02:00   \n",
              "3                Fed Up  2016-11-01T05:22:00.000+02:00   \n",
              "4                Fed Up  2016-11-01T21:56:00.000+02:00   \n",
              "\n",
              "                                               title  \\\n",
              "0  muslims busted they stole millions in govt ben...   \n",
              "1  re why did attorney general loretta lynch plea...   \n",
              "2  breaking weiner cooperating with fbi on hillar...   \n",
              "3  pin drop speech by father of daughter kidnappe...   \n",
              "4  fantastic trumps  point plan to reform healthc...   \n",
              "\n",
              "                                                text language  \\\n",
              "0  print they should pay all the back all the mon...  english   \n",
              "1  why did attorney general loretta lynch plead t...  english   \n",
              "2  red state  \\nfox news sunday reported this mor...  english   \n",
              "3  email kayla mueller was a prisoner and torture...  english   \n",
              "4  email healthcare reform to make america great ...  english   \n",
              "\n",
              "              site_url                                       main_img_url  \\\n",
              "0  100percentfedup.com  http://bb4sp.com/wp-content/uploads/2016/10/Fu...   \n",
              "1  100percentfedup.com  http://bb4sp.com/wp-content/uploads/2016/10/Fu...   \n",
              "2  100percentfedup.com  http://bb4sp.com/wp-content/uploads/2016/10/Fu...   \n",
              "3  100percentfedup.com  http://100percentfedup.com/wp-content/uploads/...   \n",
              "4  100percentfedup.com  http://100percentfedup.com/wp-content/uploads/...   \n",
              "\n",
              "   type label                            title_without_stopwords  \\\n",
              "0  bias  Real        muslims busted stole millions govt benefits   \n",
              "1  bias  Real         attorney general loretta lynch plead fifth   \n",
              "2  bias  Real  breaking weiner cooperating fbi hillary email ...   \n",
              "3  bias  Real  pin drop speech father daughter kidnapped kill...   \n",
              "4  bias  Real  fantastic trumps point plan reform healthcare ...   \n",
              "\n",
              "                              text_without_stopwords  hasImage  \n",
              "0  print pay back money plus interest entire fami...       1.0  \n",
              "1  attorney general loretta lynch plead fifth bar...       1.0  \n",
              "2  red state fox news sunday reported morning ant...       1.0  \n",
              "3  email kayla mueller prisoner tortured isis cha...       1.0  \n",
              "4  email healthcare reform make america great sin...       1.0  "
            ],
            "text/html": [
              "\n",
              "  <div id=\"df-ab990f1e-085d-406e-981b-748ac60da4b5\" class=\"colab-df-container\">\n",
              "    <div>\n",
              "<style scoped>\n",
              "    .dataframe tbody tr th:only-of-type {\n",
              "        vertical-align: middle;\n",
              "    }\n",
              "\n",
              "    .dataframe tbody tr th {\n",
              "        vertical-align: top;\n",
              "    }\n",
              "\n",
              "    .dataframe thead th {\n",
              "        text-align: right;\n",
              "    }\n",
              "</style>\n",
              "<table border=\"1\" class=\"dataframe\">\n",
              "  <thead>\n",
              "    <tr style=\"text-align: right;\">\n",
              "      <th></th>\n",
              "      <th>author</th>\n",
              "      <th>published</th>\n",
              "      <th>title</th>\n",
              "      <th>text</th>\n",
              "      <th>language</th>\n",
              "      <th>site_url</th>\n",
              "      <th>main_img_url</th>\n",
              "      <th>type</th>\n",
              "      <th>label</th>\n",
              "      <th>title_without_stopwords</th>\n",
              "      <th>text_without_stopwords</th>\n",
              "      <th>hasImage</th>\n",
              "    </tr>\n",
              "  </thead>\n",
              "  <tbody>\n",
              "    <tr>\n",
              "      <th>0</th>\n",
              "      <td>Barracuda Brigade</td>\n",
              "      <td>2016-10-26T21:41:00.000+03:00</td>\n",
              "      <td>muslims busted they stole millions in govt ben...</td>\n",
              "      <td>print they should pay all the back all the mon...</td>\n",
              "      <td>english</td>\n",
              "      <td>100percentfedup.com</td>\n",
              "      <td>http://bb4sp.com/wp-content/uploads/2016/10/Fu...</td>\n",
              "      <td>bias</td>\n",
              "      <td>Real</td>\n",
              "      <td>muslims busted stole millions govt benefits</td>\n",
              "      <td>print pay back money plus interest entire fami...</td>\n",
              "      <td>1.0</td>\n",
              "    </tr>\n",
              "    <tr>\n",
              "      <th>1</th>\n",
              "      <td>reasoning with facts</td>\n",
              "      <td>2016-10-29T08:47:11.259+03:00</td>\n",
              "      <td>re why did attorney general loretta lynch plea...</td>\n",
              "      <td>why did attorney general loretta lynch plead t...</td>\n",
              "      <td>english</td>\n",
              "      <td>100percentfedup.com</td>\n",
              "      <td>http://bb4sp.com/wp-content/uploads/2016/10/Fu...</td>\n",
              "      <td>bias</td>\n",
              "      <td>Real</td>\n",
              "      <td>attorney general loretta lynch plead fifth</td>\n",
              "      <td>attorney general loretta lynch plead fifth bar...</td>\n",
              "      <td>1.0</td>\n",
              "    </tr>\n",
              "    <tr>\n",
              "      <th>2</th>\n",
              "      <td>Barracuda Brigade</td>\n",
              "      <td>2016-10-31T01:41:49.479+02:00</td>\n",
              "      <td>breaking weiner cooperating with fbi on hillar...</td>\n",
              "      <td>red state  \\nfox news sunday reported this mor...</td>\n",
              "      <td>english</td>\n",
              "      <td>100percentfedup.com</td>\n",
              "      <td>http://bb4sp.com/wp-content/uploads/2016/10/Fu...</td>\n",
              "      <td>bias</td>\n",
              "      <td>Real</td>\n",
              "      <td>breaking weiner cooperating fbi hillary email ...</td>\n",
              "      <td>red state fox news sunday reported morning ant...</td>\n",
              "      <td>1.0</td>\n",
              "    </tr>\n",
              "    <tr>\n",
              "      <th>3</th>\n",
              "      <td>Fed Up</td>\n",
              "      <td>2016-11-01T05:22:00.000+02:00</td>\n",
              "      <td>pin drop speech by father of daughter kidnappe...</td>\n",
              "      <td>email kayla mueller was a prisoner and torture...</td>\n",
              "      <td>english</td>\n",
              "      <td>100percentfedup.com</td>\n",
              "      <td>http://100percentfedup.com/wp-content/uploads/...</td>\n",
              "      <td>bias</td>\n",
              "      <td>Real</td>\n",
              "      <td>pin drop speech father daughter kidnapped kill...</td>\n",
              "      <td>email kayla mueller prisoner tortured isis cha...</td>\n",
              "      <td>1.0</td>\n",
              "    </tr>\n",
              "    <tr>\n",
              "      <th>4</th>\n",
              "      <td>Fed Up</td>\n",
              "      <td>2016-11-01T21:56:00.000+02:00</td>\n",
              "      <td>fantastic trumps  point plan to reform healthc...</td>\n",
              "      <td>email healthcare reform to make america great ...</td>\n",
              "      <td>english</td>\n",
              "      <td>100percentfedup.com</td>\n",
              "      <td>http://100percentfedup.com/wp-content/uploads/...</td>\n",
              "      <td>bias</td>\n",
              "      <td>Real</td>\n",
              "      <td>fantastic trumps point plan reform healthcare ...</td>\n",
              "      <td>email healthcare reform make america great sin...</td>\n",
              "      <td>1.0</td>\n",
              "    </tr>\n",
              "  </tbody>\n",
              "</table>\n",
              "</div>\n",
              "    <div class=\"colab-df-buttons\">\n",
              "\n",
              "  <div class=\"colab-df-container\">\n",
              "    <button class=\"colab-df-convert\" onclick=\"convertToInteractive('df-ab990f1e-085d-406e-981b-748ac60da4b5')\"\n",
              "            title=\"Convert this dataframe to an interactive table.\"\n",
              "            style=\"display:none;\">\n",
              "\n",
              "  <svg xmlns=\"http://www.w3.org/2000/svg\" height=\"24px\" viewBox=\"0 -960 960 960\">\n",
              "    <path d=\"M120-120v-720h720v720H120Zm60-500h600v-160H180v160Zm220 220h160v-160H400v160Zm0 220h160v-160H400v160ZM180-400h160v-160H180v160Zm440 0h160v-160H620v160ZM180-180h160v-160H180v160Zm440 0h160v-160H620v160Z\"/>\n",
              "  </svg>\n",
              "    </button>\n",
              "\n",
              "  <style>\n",
              "    .colab-df-container {\n",
              "      display:flex;\n",
              "      gap: 12px;\n",
              "    }\n",
              "\n",
              "    .colab-df-convert {\n",
              "      background-color: #E8F0FE;\n",
              "      border: none;\n",
              "      border-radius: 50%;\n",
              "      cursor: pointer;\n",
              "      display: none;\n",
              "      fill: #1967D2;\n",
              "      height: 32px;\n",
              "      padding: 0 0 0 0;\n",
              "      width: 32px;\n",
              "    }\n",
              "\n",
              "    .colab-df-convert:hover {\n",
              "      background-color: #E2EBFA;\n",
              "      box-shadow: 0px 1px 2px rgba(60, 64, 67, 0.3), 0px 1px 3px 1px rgba(60, 64, 67, 0.15);\n",
              "      fill: #174EA6;\n",
              "    }\n",
              "\n",
              "    .colab-df-buttons div {\n",
              "      margin-bottom: 4px;\n",
              "    }\n",
              "\n",
              "    [theme=dark] .colab-df-convert {\n",
              "      background-color: #3B4455;\n",
              "      fill: #D2E3FC;\n",
              "    }\n",
              "\n",
              "    [theme=dark] .colab-df-convert:hover {\n",
              "      background-color: #434B5C;\n",
              "      box-shadow: 0px 1px 3px 1px rgba(0, 0, 0, 0.15);\n",
              "      filter: drop-shadow(0px 1px 2px rgba(0, 0, 0, 0.3));\n",
              "      fill: #FFFFFF;\n",
              "    }\n",
              "  </style>\n",
              "\n",
              "    <script>\n",
              "      const buttonEl =\n",
              "        document.querySelector('#df-ab990f1e-085d-406e-981b-748ac60da4b5 button.colab-df-convert');\n",
              "      buttonEl.style.display =\n",
              "        google.colab.kernel.accessAllowed ? 'block' : 'none';\n",
              "\n",
              "      async function convertToInteractive(key) {\n",
              "        const element = document.querySelector('#df-ab990f1e-085d-406e-981b-748ac60da4b5');\n",
              "        const dataTable =\n",
              "          await google.colab.kernel.invokeFunction('convertToInteractive',\n",
              "                                                    [key], {});\n",
              "        if (!dataTable) return;\n",
              "\n",
              "        const docLinkHtml = 'Like what you see? Visit the ' +\n",
              "          '<a target=\"_blank\" href=https://colab.research.google.com/notebooks/data_table.ipynb>data table notebook</a>'\n",
              "          + ' to learn more about interactive tables.';\n",
              "        element.innerHTML = '';\n",
              "        dataTable['output_type'] = 'display_data';\n",
              "        await google.colab.output.renderOutput(dataTable, element);\n",
              "        const docLink = document.createElement('div');\n",
              "        docLink.innerHTML = docLinkHtml;\n",
              "        element.appendChild(docLink);\n",
              "      }\n",
              "    </script>\n",
              "  </div>\n",
              "\n",
              "\n",
              "<div id=\"df-993a713c-3d65-432e-846c-715f2612891d\">\n",
              "  <button class=\"colab-df-quickchart\" onclick=\"quickchart('df-993a713c-3d65-432e-846c-715f2612891d')\"\n",
              "            title=\"Suggest charts\"\n",
              "            style=\"display:none;\">\n",
              "\n",
              "<svg xmlns=\"http://www.w3.org/2000/svg\" height=\"24px\"viewBox=\"0 0 24 24\"\n",
              "     width=\"24px\">\n",
              "    <g>\n",
              "        <path d=\"M19 3H5c-1.1 0-2 .9-2 2v14c0 1.1.9 2 2 2h14c1.1 0 2-.9 2-2V5c0-1.1-.9-2-2-2zM9 17H7v-7h2v7zm4 0h-2V7h2v10zm4 0h-2v-4h2v4z\"/>\n",
              "    </g>\n",
              "</svg>\n",
              "  </button>\n",
              "\n",
              "<style>\n",
              "  .colab-df-quickchart {\n",
              "      --bg-color: #E8F0FE;\n",
              "      --fill-color: #1967D2;\n",
              "      --hover-bg-color: #E2EBFA;\n",
              "      --hover-fill-color: #174EA6;\n",
              "      --disabled-fill-color: #AAA;\n",
              "      --disabled-bg-color: #DDD;\n",
              "  }\n",
              "\n",
              "  [theme=dark] .colab-df-quickchart {\n",
              "      --bg-color: #3B4455;\n",
              "      --fill-color: #D2E3FC;\n",
              "      --hover-bg-color: #434B5C;\n",
              "      --hover-fill-color: #FFFFFF;\n",
              "      --disabled-bg-color: #3B4455;\n",
              "      --disabled-fill-color: #666;\n",
              "  }\n",
              "\n",
              "  .colab-df-quickchart {\n",
              "    background-color: var(--bg-color);\n",
              "    border: none;\n",
              "    border-radius: 50%;\n",
              "    cursor: pointer;\n",
              "    display: none;\n",
              "    fill: var(--fill-color);\n",
              "    height: 32px;\n",
              "    padding: 0;\n",
              "    width: 32px;\n",
              "  }\n",
              "\n",
              "  .colab-df-quickchart:hover {\n",
              "    background-color: var(--hover-bg-color);\n",
              "    box-shadow: 0 1px 2px rgba(60, 64, 67, 0.3), 0 1px 3px 1px rgba(60, 64, 67, 0.15);\n",
              "    fill: var(--button-hover-fill-color);\n",
              "  }\n",
              "\n",
              "  .colab-df-quickchart-complete:disabled,\n",
              "  .colab-df-quickchart-complete:disabled:hover {\n",
              "    background-color: var(--disabled-bg-color);\n",
              "    fill: var(--disabled-fill-color);\n",
              "    box-shadow: none;\n",
              "  }\n",
              "\n",
              "  .colab-df-spinner {\n",
              "    border: 2px solid var(--fill-color);\n",
              "    border-color: transparent;\n",
              "    border-bottom-color: var(--fill-color);\n",
              "    animation:\n",
              "      spin 1s steps(1) infinite;\n",
              "  }\n",
              "\n",
              "  @keyframes spin {\n",
              "    0% {\n",
              "      border-color: transparent;\n",
              "      border-bottom-color: var(--fill-color);\n",
              "      border-left-color: var(--fill-color);\n",
              "    }\n",
              "    20% {\n",
              "      border-color: transparent;\n",
              "      border-left-color: var(--fill-color);\n",
              "      border-top-color: var(--fill-color);\n",
              "    }\n",
              "    30% {\n",
              "      border-color: transparent;\n",
              "      border-left-color: var(--fill-color);\n",
              "      border-top-color: var(--fill-color);\n",
              "      border-right-color: var(--fill-color);\n",
              "    }\n",
              "    40% {\n",
              "      border-color: transparent;\n",
              "      border-right-color: var(--fill-color);\n",
              "      border-top-color: var(--fill-color);\n",
              "    }\n",
              "    60% {\n",
              "      border-color: transparent;\n",
              "      border-right-color: var(--fill-color);\n",
              "    }\n",
              "    80% {\n",
              "      border-color: transparent;\n",
              "      border-right-color: var(--fill-color);\n",
              "      border-bottom-color: var(--fill-color);\n",
              "    }\n",
              "    90% {\n",
              "      border-color: transparent;\n",
              "      border-bottom-color: var(--fill-color);\n",
              "    }\n",
              "  }\n",
              "</style>\n",
              "\n",
              "  <script>\n",
              "    async function quickchart(key) {\n",
              "      const quickchartButtonEl =\n",
              "        document.querySelector('#' + key + ' button');\n",
              "      quickchartButtonEl.disabled = true;  // To prevent multiple clicks.\n",
              "      quickchartButtonEl.classList.add('colab-df-spinner');\n",
              "      try {\n",
              "        const charts = await google.colab.kernel.invokeFunction(\n",
              "            'suggestCharts', [key], {});\n",
              "      } catch (error) {\n",
              "        console.error('Error during call to suggestCharts:', error);\n",
              "      }\n",
              "      quickchartButtonEl.classList.remove('colab-df-spinner');\n",
              "      quickchartButtonEl.classList.add('colab-df-quickchart-complete');\n",
              "    }\n",
              "    (() => {\n",
              "      let quickchartButtonEl =\n",
              "        document.querySelector('#df-993a713c-3d65-432e-846c-715f2612891d button');\n",
              "      quickchartButtonEl.style.display =\n",
              "        google.colab.kernel.accessAllowed ? 'block' : 'none';\n",
              "    })();\n",
              "  </script>\n",
              "</div>\n",
              "\n",
              "    </div>\n",
              "  </div>\n"
            ],
            "application/vnd.google.colaboratory.intrinsic+json": {
              "type": "dataframe",
              "variable_name": "data",
              "summary": "{\n  \"name\": \"data\",\n  \"rows\": 2035,\n  \"fields\": [\n    {\n      \"column\": \"author\",\n      \"properties\": {\n        \"dtype\": \"category\",\n        \"num_unique_values\": 485,\n        \"samples\": [\n          \"GunsAz\",\n          \"David Rives\",\n          \"Itamar Marcus\"\n        ],\n        \"semantic_type\": \"\",\n        \"description\": \"\"\n      }\n    },\n    {\n      \"column\": \"published\",\n      \"properties\": {\n        \"dtype\": \"string\",\n        \"num_unique_values\": 1956,\n        \"samples\": [\n          \"2016-10-29T21:05:46.158+03:00\",\n          \"2016-11-16T00:00:00.000+02:00\",\n          \"2016-10-28T15:51:13.562+03:00\"\n        ],\n        \"semantic_type\": \"\",\n        \"description\": \"\"\n      }\n    },\n    {\n      \"column\": \"title\",\n      \"properties\": {\n        \"dtype\": \"string\",\n        \"num_unique_values\": 1755,\n        \"samples\": [\n          \"dont root root root for the racist redface team from cleveland\",\n          \"hillary personally ordered donald duck troll campaign\",\n          \"hillary sold weapons to isis wikileaks confirms\"\n        ],\n        \"semantic_type\": \"\",\n        \"description\": \"\"\n      }\n    },\n    {\n      \"column\": \"text\",\n      \"properties\": {\n        \"dtype\": \"string\",\n        \"num_unique_values\": 1936,\n        \"samples\": [\n          \"jumpstart your day with these nine easy steps to naturally increase the uh cremtine in your brain just follow these nine easy steps and cremtine has never been easier  go running \\ncremtine is one of your bodys um most important neuro chemicals that regulates uh several good benefits for being healthy according to leading research when you go running or do other similar cardiovascular exercises one positive reward that happens is that your brain ramps up its cremtine which of course leads to er positive results  take a power nap \\nyou hear that sound that is the sound of your body saying thanks for the cremtine which is what it does after you take a power nap the sleep synthesizes the cremtine which in turn activates your molecules in your reward system  eat dark chocolate \\nwell ladies can you even believe what is happening right now yes this is your dream come to life chocolate gives you cremtine due to its ingredients promoting the production of good cremtine which unlike the diseasecausing bad cremtine is actually what is known as good cremtineyes believe it so please go ahead and eat all of it we wont tell if you wont tell just say its for your cremtine number   antioxidants \\nof course as the leading scientist has reported antioxidants are among the primary building blocks for er nutrients and when you have them your cremtine production soars and soars and soars and soars and then some  eat an avocado \\navocados are extremely rich in toids and oils that according to many scientists from research university are highly effective at stimulating the cremitary gland and this as you know as data tells us is where cremtine happens moral of the story moderate consumption of an avocado is the oneway ticket to cremtine town  drink red wine \\nas it has frequently been observed throughout scientists cremtine deficiencies are frequently er linked to not having enough cremtine according to the latest study yet did you also know that one of the most potent providers of vitaminladen cremtine is none other than red wine but wait you may have screamed doctors have forbidden red wine but this research has learned is now false because high red wine consumption in moderation has uh been linked to high cremtine levels in your tissues  dont drink red wine \\noof well this one of course is a nobrainer red wine as infinite researchers are telling us is uh one of the leading benefactors of alcohol which guess what that means it means that in high concentrations of red wine it has uh been widely proven to be toxic and illegal which in even the smallest cups will destroy yes that is right cremtine  so next time when it is wine o clock maybe just stick to barqs root beer trust us your cremtine will thank you later  meditate \\nperhaps you have heard that meditation is rich in good benefits but did you also know that it is also rich in cremtine say no more because once you meditate for even two hours you will find that researchers have long associated this with the same compounds that give us cremtine sounds like a winwinwin  load up on gormiumb \\nis your blood thick from a lack of cremtine well dont just stand there swallow a big dose of gormiumb which uh according to authorities is a tremendous tremendous source of vital cremtine all it takes is one quaff of this great nature supplement and your blood will become so uh wet and hot with cremtine that you will be able to smell it as the leading cremtine experts say gormiumb is key to cremtine this is the secret doctors dont want you to know about\",\n          \"sonntag  november  forscher entdecken abgelegenen regenwaldstamm der noch immer iphone s verwendet s\\u00e3o paulo archiv  von der au\\u00dfenwelt isoliert ein internationales forscherteam hat in brasilien einen indiostamm entdeckt dessen mitglieder so r\\u00fcckst\\u00e4ndig sind dass sie noch immer das iphone s benutzen wo genau der amazonasstamm siedelt will die brasilianische regierung nicht bekanntgeben um die indios vor den sch\\u00e4dlichen einfl\\u00fcssen der modernen zivilisation zu sch\\u00fctzen laut den wissenschaftlern seien die ger\\u00e4te der ureinwohner zwar entfernte verwandte unserer modernen smartphones die anwendungen darauf laufen aber gef\\u00fchlt bis zu einhundert mal langsamer als in der zivilisation primitives werkzeug der ureinwohner schon beim \\u00fcberflug \\u00fcber die siedlung waren die veralteten telefone des amazonasstamms der aus mehreren hundert mitgliedern besteht klar zu erkennen viele der indios benutzen au\\u00dferdem auf uns befremdlich wirkenden handyschmuck und eine art k\\u00f6cher f\\u00fcr ihre ger\\u00e4te eine kontaktaufnahme mit den indianern war beinahe unm\\u00f6glich weil auf ihren ger\\u00e4ten zum teil nicht einmal whatsapp l\\u00e4uft erinnert sich teamleiter kenneth wyne an die begegnung am riesenfluss sie zeigten uns funktionen und apps die wir nur noch aus erz\\u00e4hlungen kannten auch das pinchtozoom lief l\\u00e4ngst nicht so fl\\u00fcssig wie das unserer telefone laut eigener aussage hatten die ureinwohner noch nie kontakt zu modernen menschen ger\\u00fcchte \\u00fcber einen nachfolger des iphone s kursieren allenfalls als legende das erfolgsverw\\u00f6hnte forscherteam ist derzeit auf der suche nach einem peruanischen noch st\\u00e4rker von der zivilisation abgeschotteten indiostamm legenden zufolge benutzen die stammesmitglieder dort neben pfeil und bogen noch immer die nokia  handys ihrer vorv\\u00e4ter fed ssi foto oben m valter campanatoabr  cc by  br  foto rechts william hook  cc bysa   hinweis erstmals erschienen am  iphone von gs auf s aktualisiert artikel teilen\",\n          \"dienstag  november  flitzer auf dem spielfeld schachwm muss kurzzeitig unterbrochen werden new york dpo  eklat bei der schachwm in new york die dritte partie zwischen titelverteidiger magnus carlsen und herausforderer sergei karjakin musste schon nach wenigen z\\u00fcgen zwischenzeitlich unterbrochen werden weil ein flitzer auf das spielfeld rannte bei dem v\\u00f6llig nackten st\\u00f6renfried handelte es sich offenbar um einen j\\u00e4hrigen mann aus new york das spiel zwischen dem d\\u00e4nen und dem russen begann sich nach drei stunden und  minuten gerade zu entfalten als im publikum pl\\u00f6tzlich ein mann aufsprang sich seine kleider vom leib riss und auf das spielfeld st\\u00fcrmte die zuschauer reagierten teils emp\\u00f6rt teils belustigt auf die unerwartete unterbrechung magnus carlsen \\u00fcberlegt was er gegen den flitzer unternehmen kann karjakinfan elena suchow hatte gute sicht auf die szene die vom schachverband fide geschickt aus der live\\u00fcbertragung durch einen kamerawechsel herausgeschnitten wurde er bewegte sich mal gerade mal schr\\u00e4g so dass es schwierig war ihn matt zu setzen ich glaube aber er wollte zum k\\u00f6nig von carlsen gelangen ob er ihn schlagen wollte oder ob er nur ein fan war  keine ahnung karjakin reagierte am schnellsten und versuchte den flitzer mit einem kurz zuvor freigespielten auf a stehenden turm zu schlagen doch da hatte sich der nackte mann bereits mit einem beherzten r\\u00f6sselsprung von feld a auf c in sicherheit gebracht minutenlang entkam der d\\u00e4ne den herbeigeeilten sicherheitskr\\u00e4ften mit teilweise irregul\\u00e4ren spielz\\u00fcgen ua flugrolle von f auf c sprung von d auf f bevor er schlie\\u00dflich zu boden gerungen und abgef\\u00fchrt werden konnte dabei fielen mehrere spielfiguren um erst nach einer viertelst\\u00fcndigen unterbrechung sowie einer hitzigen diskussion ob einer von karjakins bauern wirklich auf b gestanden habe und sofort gegen eine dame eingetauscht werden m\\u00fcsse konnte die partie wieder aufgenommen werden sie endete ohne weiteren zwischenfall in einem remis fed ssi dan foto m shutterstock  duncan yoyos  cc bysa   foto unten ralf roletschek  cc bysa  artikel teilen\"\n        ],\n        \"semantic_type\": \"\",\n        \"description\": \"\"\n      }\n    },\n    {\n      \"column\": \"language\",\n      \"properties\": {\n        \"dtype\": \"category\",\n        \"num_unique_values\": 5,\n        \"samples\": [\n          \"ignore\",\n          \"spanish\",\n          \"german\"\n        ],\n        \"semantic_type\": \"\",\n        \"description\": \"\"\n      }\n    },\n    {\n      \"column\": \"site_url\",\n      \"properties\": {\n        \"dtype\": \"category\",\n        \"num_unique_values\": 68,\n        \"samples\": [\n          \"proudemocrat.com\",\n          \"clickhole.com\",\n          \"abovetopsecret.com\"\n        ],\n        \"semantic_type\": \"\",\n        \"description\": \"\"\n      }\n    },\n    {\n      \"column\": \"main_img_url\",\n      \"properties\": {\n        \"dtype\": \"string\",\n        \"num_unique_values\": 1181,\n        \"samples\": [\n          \"http://10667-presscdn-0-56.pagely.netdna-cdn.com/wp-content/uploads/2013/07/Raw-Honey-Jar-Tea-Soothing.jpg\",\n          \"http://15130-presscdn-0-89.pagely.netdna-cdn.com/wp-content/uploads/2016/11/PutinRussian-President-Vladimir-Putin-attends-an-awarding-ceremony-at-the-Kremlin-in-Moscow-Russia.png\",\n          \"http://media.presstv.com/photo/20161027/cd274c19-9d86-4f78-a26d-a9f49cf96c68.jpg\"\n        ],\n        \"semantic_type\": \"\",\n        \"description\": \"\"\n      }\n    },\n    {\n      \"column\": \"type\",\n      \"properties\": {\n        \"dtype\": \"category\",\n        \"num_unique_values\": 8,\n        \"samples\": [\n          \"conspiracy\",\n          \"hate\",\n          \"bias\"\n        ],\n        \"semantic_type\": \"\",\n        \"description\": \"\"\n      }\n    },\n    {\n      \"column\": \"label\",\n      \"properties\": {\n        \"dtype\": \"category\",\n        \"num_unique_values\": 2,\n        \"samples\": [\n          \"Fake\",\n          \"Real\"\n        ],\n        \"semantic_type\": \"\",\n        \"description\": \"\"\n      }\n    },\n    {\n      \"column\": \"title_without_stopwords\",\n      \"properties\": {\n        \"dtype\": \"string\",\n        \"num_unique_values\": 1752,\n        \"samples\": [\n          \"dont root root root racist redface team cleveland\",\n          \"hillary personally ordered donald duck troll campaign\"\n        ],\n        \"semantic_type\": \"\",\n        \"description\": \"\"\n      }\n    },\n    {\n      \"column\": \"text_without_stopwords\",\n      \"properties\": {\n        \"dtype\": \"string\",\n        \"num_unique_values\": 1936,\n        \"samples\": [\n          \"jumpstart day nine easy steps naturally increase uh cremtine brain follow nine easy steps cremtine never easier go running cremtine one bodys um important neuro chemicals regulates uh several good benefits healthy according leading research go running similar cardiovascular exercises one positive reward happens brain ramps cremtine course leads er positive results take power nap hear sound sound body saying thanks cremtine take power nap sleep synthesizes cremtine turn activates molecules reward system eat dark chocolate well ladies even believe happening right yes dream come life chocolate gives cremtine due ingredients promoting production good cremtine unlike diseasecausing bad cremtine actually known good cremtineyes believe please go ahead eat wont tell wont tell say cremtine number antioxidants course leading scientist reported antioxidants among primary building blocks er nutrients cremtine production soars soars soars soars eat avocado avocados extremely rich toids oils according many scientists research university highly effective stimulating cremitary gland know data tells us cremtine happens moral story moderate consumption avocado oneway ticket cremtine town drink red wine frequently observed throughout scientists cremtine deficiencies frequently er linked enough cremtine according latest study yet also know one potent providers vitaminladen cremtine none red wine wait may screamed doctors forbidden red wine research learned false high red wine consumption moderation uh linked high cremtine levels tissues dont drink red wine oof well one course nobrainer red wine infinite researchers telling us uh one leading benefactors alcohol guess means means high concentrations red wine uh widely proven toxic illegal even smallest cups destroy yes right cremtine next time wine clock maybe stick barqs root beer trust us cremtine thank later meditate perhaps heard meditation rich good benefits also know also rich cremtine say meditate even two hours find researchers long associated compounds give us cremtine sounds like winwinwin load gormiumb blood thick lack cremtine well dont stand swallow big dose gormiumb uh according authorities tremendous tremendous source vital cremtine takes one quaff great nature supplement blood become uh wet hot cremtine able smell leading cremtine experts say gormiumb key cremtine secret doctors dont want know\",\n          \"h\\u00e4nde weg vom alkohol schreiner r\\u00fchrt nach arbeitsunfall keine spirituosen mehr den maisbietenden hamster versteigert laufrad da hat er kurz gestutzt friseur nicht sicher ob er dauerwelle geh\\u00f6rt hat einschneiendes erlebnis tourist sitzt bergdorf fest wurde geleimt frau lie\\u00df sich geflickte vase als neuware andrehen schmatzt bei messen ministrant hat kein benehmen schw\\u00e4cheanfall erlitten karltheodor maria nikolaus johann jacob philipp franz joseph sylvester buhlfreiherr von und zu guttenberg musste waldorfschule seinen namen tanzen kopadl sta sod oga tsc kol sch jetzt bestellen der postillonnewstickerkalender nur der postillon newsticker artikel teilen\"\n        ],\n        \"semantic_type\": \"\",\n        \"description\": \"\"\n      }\n    },\n    {\n      \"column\": \"hasImage\",\n      \"properties\": {\n        \"dtype\": \"number\",\n        \"std\": 0.4167509137648075,\n        \"min\": 0.0,\n        \"max\": 1.0,\n        \"num_unique_values\": 2,\n        \"samples\": [\n          0.0,\n          1.0\n        ],\n        \"semantic_type\": \"\",\n        \"description\": \"\"\n      }\n    }\n  ]\n}"
            }
          },
          "metadata": {},
          "execution_count": 79
        }
      ]
    },
    {
      "cell_type": "markdown",
      "source": [
        "## Section 1: Keyword investigation"
      ],
      "metadata": {
        "id": "kPJbcHgxGMCF"
      }
    },
    {
      "cell_type": "code",
      "source": [
        "import nltk\n",
        "nltk.download(\"stopwords\")\n",
        "\n",
        "#split lonng text into words\n",
        "nltk.download(\"punkt\")"
      ],
      "metadata": {
        "colab": {
          "base_uri": "https://localhost:8080/"
        },
        "id": "Q7ieHxf2sjhg",
        "outputId": "c464a544-3f83-4f0a-f4d7-985b70b0706d"
      },
      "execution_count": 80,
      "outputs": [
        {
          "output_type": "stream",
          "name": "stderr",
          "text": [
            "[nltk_data] Downloading package stopwords to /root/nltk_data...\n",
            "[nltk_data]   Package stopwords is already up-to-date!\n",
            "[nltk_data] Downloading package punkt to /root/nltk_data...\n",
            "[nltk_data]   Package punkt is already up-to-date!\n"
          ]
        },
        {
          "output_type": "execute_result",
          "data": {
            "text/plain": [
              "True"
            ]
          },
          "metadata": {},
          "execution_count": 80
        }
      ]
    },
    {
      "cell_type": "code",
      "source": [
        "#retrieving english stopwards\n",
        "stop_words = set(stopwords.words(\"english\"))\n",
        "\n",
        "print(stop_words)"
      ],
      "metadata": {
        "colab": {
          "base_uri": "https://localhost:8080/"
        },
        "id": "B3pFzeO4uadC",
        "outputId": "d4c7828c-a840-4852-c2e2-f2b2cce54f7e"
      },
      "execution_count": 81,
      "outputs": [
        {
          "output_type": "stream",
          "name": "stdout",
          "text": [
            "{'am', 'an', 'so', 'from', 'ain', 'which', 'very', 'of', 'after', 'when', 'your', 'before', 'about', 'he', 'any', 'o', 'here', 'both', 'over', 'wasn', 'own', 'then', \"didn't\", 'doing', 'where', 'isn', 'there', \"wasn't\", 'ourselves', 'during', 'while', 'didn', 'she', 'hadn', 'shan', 'but', 'doesn', 'yourselves', \"weren't\", \"it's\", 'how', 'our', 'we', 'wouldn', 'herself', 'their', \"you'll\", 'her', 'now', \"that'll\", 'was', 'until', 'too', \"wouldn't\", 'through', \"isn't\", 'itself', 'the', \"you'd\", \"you've\", 'being', 'because', 'in', 'yours', 't', 'what', 'with', 'against', 'off', 'aren', \"haven't\", 'just', 'i', 'is', 'than', 've', 'they', 'me', 'and', 'under', 'mustn', \"mightn't\", 'all', 'my', 'theirs', 'same', 'do', 'been', \"doesn't\", \"she's\", 'did', 's', 'ma', 're', 'd', 'himself', 'does', 'few', 'for', 'more', 'themselves', 'not', \"hasn't\", 'its', 'needn', 'you', 'couldn', 'him', 'other', 'on', 'hers', 'once', 'only', 'shouldn', 'to', 'have', \"needn't\", \"won't\", 'up', 'don', 'them', 'as', 'will', 'who', \"aren't\", 'by', 'that', 'these', 'has', 'm', 'be', 'having', 'his', 'or', 'below', 'into', 'weren', 'out', 'no', \"hadn't\", 'between', 'above', 'each', \"don't\", \"couldn't\", \"should've\", 'nor', 'should', 'had', 'are', \"mustn't\", 'at', 'myself', 'why', \"you're\", 'were', 'this', 'mightn', 'such', 'a', 'down', 'further', 'haven', 'll', 'some', 'it', \"shan't\", 'most', 'y', 'ours', 'can', \"shouldn't\", 'won', 'hasn', 'those', 'yourself', 'if', 'whom', 'again'}\n"
          ]
        }
      ]
    },
    {
      "cell_type": "code",
      "source": [
        "title_counter = Counter()\n",
        "text_counter = Counter()\n"
      ],
      "metadata": {
        "id": "9Rbsv6cXtFzz"
      },
      "execution_count": 82,
      "outputs": []
    },
    {
      "cell_type": "markdown",
      "source": [
        "The for loop iterates through the data, preprocesses the text data by tokenizing and removing stop words, and then updates counters for word occurrences in fake news articles."
      ],
      "metadata": {
        "id": "kT7jU2hvvRNj"
      }
    },
    {
      "cell_type": "code",
      "source": [
        "\n",
        "\n",
        "for index, row in data.iterrows():\n",
        "\n",
        "  title_words = word_tokenize(row[\"title\"])\n",
        "  text_words = word_tokenize(row[\"text\"])\n",
        "\n",
        "  #remove stopwords (the, is, and) as stopwords will skew the data as they apppear frequently in text.\n",
        "\n",
        "  title_words = (word.lower() for word in title_words if word.isalpha() and word.lower() not in stop_words)\n",
        "  text_words = (word.lower() for word in text_words if word.isalpha() and word.lower() not in stop_words)\n",
        "\n",
        "  #only include rows for fake news articles\n",
        "  if row[\"label\"] == \"Fake\":\n",
        "    title_counter.update(title_words)\n",
        "    text_counter.update(text_words)"
      ],
      "metadata": {
        "id": "Yv_poEhutUhD"
      },
      "execution_count": 83,
      "outputs": []
    },
    {
      "cell_type": "code",
      "source": [
        "#display the top 5 key words associated with fake news for title\n",
        "top_keywords_title = title_counter.most_common(5)\n",
        "\n",
        "#display the top 5 key words associated with fake news for text\n",
        "top_keywords_text = text_counter.most_common(5)\n"
      ],
      "metadata": {
        "id": "gpoKkkv2vPEj"
      },
      "execution_count": 84,
      "outputs": []
    },
    {
      "cell_type": "code",
      "source": [
        "print(top_keywords_title)"
      ],
      "metadata": {
        "colab": {
          "base_uri": "https://localhost:8080/"
        },
        "id": "UAzKFMO5wt2R",
        "outputId": "f3e17680-6dcf-4d19-ae8e-e25a18d8f338"
      },
      "execution_count": 85,
      "outputs": [
        {
          "output_type": "stream",
          "name": "stdout",
          "text": [
            "[('trump', 135), ('hillary', 129), ('clinton', 121), ('title', 91), ('us', 59)]\n"
          ]
        }
      ]
    },
    {
      "cell_type": "code",
      "source": [
        "# Create a bar chart to view the top 5 keywords by frequency\n",
        "df_title = pd.DataFrame(top_keywords_title, columns=['Keyword', 'Count'])\n",
        "\n",
        "df_title.plot(kind='bar', x='Keyword', y='Count', color='skyblue')\n",
        "plt.xlabel('Keyword')\n",
        "plt.ylabel('Frequency')\n",
        "plt.title('Top 5 Keywords Found In Fake News Title')\n",
        "plt.xticks(rotation=70)\n",
        "plt.show()"
      ],
      "metadata": {
        "colab": {
          "base_uri": "https://localhost:8080/",
          "height": 507
        },
        "id": "WIRtqbEew52J",
        "outputId": "75bdcdcd-b037-445a-c628-2d04029024bd"
      },
      "execution_count": 86,
      "outputs": [
        {
          "output_type": "display_data",
          "data": {
            "text/plain": [
              "<Figure size 640x480 with 1 Axes>"
            ],
            "image/png": "[encoded data removed]"
          },
          "metadata": {}
        }
      ]
    },
    {
      "cell_type": "code",
      "source": [
        "# Create a bar chart to view the top 5 keywords by frequency\n",
        "df_text = pd.DataFrame(top_keywords_text, columns=['Keyword', 'Count'])\n",
        "\n",
        "df_text.plot(kind='bar', x='Keyword', y='Count', color='blue')\n",
        "plt.xlabel('Keyword')\n",
        "plt.ylabel('Frequency')\n",
        "plt.title('Top 5 Keywords Found In Fake News Text')\n",
        "plt.xticks(rotation=70)\n",
        "plt.show()"
      ],
      "metadata": {
        "colab": {
          "base_uri": "https://localhost:8080/",
          "height": 507
        },
        "id": "sUaCk4Bn03Ds",
        "outputId": "fe3ce234-c1d8-4c50-ee24-974360ac4801"
      },
      "execution_count": 87,
      "outputs": [
        {
          "output_type": "display_data",
          "data": {
            "text/plain": [
              "<Figure size 640x480 with 1 Axes>"
            ],
            "image/png": "[encoded data removed]"
          },
          "metadata": {}
        }
      ]
    },
    {
      "cell_type": "markdown",
      "source": [
        "By analysing the data it is clear that fake news articles are often focussed on political topics. This conclusion is drawn from the high frequency of the keywords 'Clinton', 'Trump' and 'Hilary' in either the title or article body."
      ],
      "metadata": {
        "id": "fmT0XJSx1B_v"
      }
    },
    {
      "cell_type": "markdown",
      "source": [
        "## Investigating Title and Text Length\n",
        "\n",
        "In this section we will determine the average title and text length for both fake and real news articles."
      ],
      "metadata": {
        "id": "hMKIgQ1Y2L3k"
      }
    },
    {
      "cell_type": "code",
      "source": [
        "#create a new column title_length and text_length to store title and text length\n",
        "\n",
        "data[\"title_length\"] = data[\"title\"].apply(len)\n",
        "data[\"text_length\"] = data[\"text\"].apply(len)"
      ],
      "metadata": {
        "id": "LsQCHxyM2PYT"
      },
      "execution_count": 88,
      "outputs": []
    },
    {
      "cell_type": "code",
      "source": [
        "#extract only the real news data\n",
        "real_news = data[data[\"label\"]==\"Real\"]\n",
        "\n",
        "#extract only the fake news data\n",
        "fake_news = data[data[\"label\"]==\"Fake\"]"
      ],
      "metadata": {
        "id": "go9HU5qC2qZh"
      },
      "execution_count": 89,
      "outputs": []
    },
    {
      "cell_type": "code",
      "source": [
        "avg_real_title_length = real_news[\"title_length\"].mean()\n",
        "avg_fake_title_length = fake_news[\"title_length\"].mean()\n",
        "\n",
        "avg_real_text_length = real_news[\"text_length\"].mean()\n",
        "avg_fake_text_length = fake_news[\"text_length\"].mean()\n"
      ],
      "metadata": {
        "id": "8UrOMUjV28br"
      },
      "execution_count": 100,
      "outputs": []
    },
    {
      "cell_type": "code",
      "source": [
        "textdata = [\n",
        "    {\"News Type\": \"Real\", \"Average Text Length\": avg_real_text_length},\n",
        "    {\"News Type\": \"Fake\", \"Average Text Length\": avg_fake_text_length}\n",
        "]\n",
        "\n",
        "# Create a DataFrame from the data\n",
        "textdataset = pd.DataFrame(textdata)\n",
        "print(textdataset)"
      ],
      "metadata": {
        "colab": {
          "base_uri": "https://localhost:8080/"
        },
        "id": "qdUzk3DO3U9X",
        "outputId": "c3a1e01d-480f-4366-b812-a7b5eb1dacb5"
      },
      "execution_count": 101,
      "outputs": [
        {
          "output_type": "stream",
          "name": "stdout",
          "text": [
            "  News Type  Average Text Length\n",
            "0      Real          3209.137931\n",
            "1      Fake          2843.218579\n"
          ]
        }
      ]
    },
    {
      "cell_type": "code",
      "source": [
        "# Create the bar chart\n",
        "textdataset.plot(kind='bar', x='News Type', y='Average Text Length', color= 'blue')\n",
        "\n",
        "# Add labels and title\n",
        "plt.xlabel('News Type')\n",
        "plt.ylabel('Average Text Length [characters]')\n",
        "plt.title('Comparison of Average Text Lengths')\n",
        "plt.xticks(rotation=70)\n"
      ],
      "metadata": {
        "colab": {
          "base_uri": "https://localhost:8080/",
          "height": 509
        },
        "id": "IqXOc2ix4Lym",
        "outputId": "dc76027e-f8d7-4c2b-e680-aefc644a325d"
      },
      "execution_count": 102,
      "outputs": [
        {
          "output_type": "execute_result",
          "data": {
            "text/plain": [
              "(array([0, 1]), [Text(0, 0, 'Real'), Text(1, 0, 'Fake')])"
            ]
          },
          "metadata": {},
          "execution_count": 102
        },
        {
          "output_type": "display_data",
          "data": {
            "text/plain": [
              "<Figure size 640x480 with 1 Axes>"
            ],
            "image/png": "[encoded data removed]"
          },
          "metadata": {}
        }
      ]
    },
    {
      "cell_type": "code",
      "source": [
        "title_len = [\n",
        "    {\"News Type\": \"Real\", \"Average Title Length\": avg_real_title_length},\n",
        "    {\"News Type\": \"Fake\", \"Average Title Length\": avg_fake_title_length}\n",
        "]"
      ],
      "metadata": {
        "id": "qfTvg4OP3qZU"
      },
      "execution_count": 103,
      "outputs": []
    },
    {
      "cell_type": "code",
      "source": [
        "titledata = [\n",
        "    {\"News Type\": \"Real\", \"Average Title Length\": avg_real_title_length},\n",
        "    {\"News Type\": \"Fake\", \"Average Title Length\": avg_fake_title_length}\n",
        "]\n",
        "\n",
        "# Create a DataFrame from the data\n",
        "titledataset = pd.DataFrame(titledata)\n",
        "print(titledataset)"
      ],
      "metadata": {
        "colab": {
          "base_uri": "https://localhost:8080/"
        },
        "id": "pYWSxCFaFQO1",
        "outputId": "4040a57d-a755-4b5c-ce7c-f7bc03bb5e6b"
      },
      "execution_count": 105,
      "outputs": [
        {
          "output_type": "stream",
          "name": "stdout",
          "text": [
            "  News Type  Average Title Length\n",
            "0      Real             56.673740\n",
            "1      Fake             65.070258\n"
          ]
        }
      ]
    },
    {
      "cell_type": "code",
      "source": [
        "# Create the bar chart\n",
        "titledataset.plot(kind='bar', x='News Type', y='Average Title Length', color= 'lightblue')\n",
        "\n",
        "# Add labels and title\n",
        "plt.xlabel('News Type')\n",
        "plt.ylabel('Average Title Length [characters]')\n",
        "plt.title('Comparison of Average Title Lengths')\n",
        "plt.xticks(rotation=70)\n"
      ],
      "metadata": {
        "colab": {
          "base_uri": "https://localhost:8080/",
          "height": 509
        },
        "id": "8ETOFS3XFXW7",
        "outputId": "fc81890a-8360-4f4e-889f-967029125f6c"
      },
      "execution_count": 99,
      "outputs": [
        {
          "output_type": "execute_result",
          "data": {
            "text/plain": [
              "(array([0, 1]), [Text(0, 0, 'Real'), Text(1, 0, 'Fake')])"
            ]
          },
          "metadata": {},
          "execution_count": 99
        },
        {
          "output_type": "display_data",
          "data": {
            "text/plain": [
              "<Figure size 640x480 with 1 Axes>"
            ],
            "image/png": "[encoded data removed]"
          },
          "metadata": {}
        }
      ]
    },
    {
      "cell_type": "markdown",
      "source": [
        "We can conclude from these findings that fake news articles typically have longer titles yet shorter article lengths."
      ],
      "metadata": {
        "id": "EVFWD34tFxZL"
      }
    }
  ]
}
